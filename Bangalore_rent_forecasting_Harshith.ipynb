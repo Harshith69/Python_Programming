{
 "cells": [
  {
   "cell_type": "markdown",
   "id": "1d98c353",
   "metadata": {},
   "source": [
    "# Harshith Narasimhamurthy"
   ]
  },
  {
   "cell_type": "markdown",
   "id": "dc9db8ee",
   "metadata": {},
   "source": [
    "# Project on predicting House Rent in Bangalore city"
   ]
  },
  {
   "cell_type": "code",
   "execution_count": 1,
   "id": "1a005742",
   "metadata": {},
   "outputs": [],
   "source": [
    "import pandas as pd"
   ]
  },
  {
   "cell_type": "markdown",
   "id": "b6ce428a",
   "metadata": {},
   "source": [
    "importing the dataframe using pandas"
   ]
  },
  {
   "cell_type": "code",
   "execution_count": 2,
   "id": "d541d57b",
   "metadata": {},
   "outputs": [],
   "source": [
    "df = pd.read_csv(\"C:/Users/Lenovo/Downloads/ban.csv\")"
   ]
  },
  {
   "cell_type": "markdown",
   "id": "0075328b",
   "metadata": {},
   "source": [
    "Printing the first 5 rows of dataframe"
   ]
  },
  {
   "cell_type": "code",
   "execution_count": 3,
   "id": "bdaaebfc",
   "metadata": {},
   "outputs": [
    {
     "data": {
      "text/html": [
       "<div>\n",
       "<style scoped>\n",
       "    .dataframe tbody tr th:only-of-type {\n",
       "        vertical-align: middle;\n",
       "    }\n",
       "\n",
       "    .dataframe tbody tr th {\n",
       "        vertical-align: top;\n",
       "    }\n",
       "\n",
       "    .dataframe thead th {\n",
       "        text-align: right;\n",
       "    }\n",
       "</style>\n",
       "<table border=\"1\" class=\"dataframe\">\n",
       "  <thead>\n",
       "    <tr style=\"text-align: right;\">\n",
       "      <th></th>\n",
       "      <th>bedroom</th>\n",
       "      <th>bathroom</th>\n",
       "      <th>layout_type</th>\n",
       "      <th>property_type</th>\n",
       "      <th>price</th>\n",
       "      <th>area</th>\n",
       "      <th>furnish_type</th>\n",
       "    </tr>\n",
       "  </thead>\n",
       "  <tbody>\n",
       "    <tr>\n",
       "      <th>0</th>\n",
       "      <td>2</td>\n",
       "      <td>2</td>\n",
       "      <td>BHK</td>\n",
       "      <td>Independent Floor</td>\n",
       "      <td>20000.0</td>\n",
       "      <td>1140</td>\n",
       "      <td>Semi-Furnished</td>\n",
       "    </tr>\n",
       "    <tr>\n",
       "      <th>1</th>\n",
       "      <td>2</td>\n",
       "      <td>2</td>\n",
       "      <td>BHK</td>\n",
       "      <td>Independent House</td>\n",
       "      <td>8000.0</td>\n",
       "      <td>840</td>\n",
       "      <td>Semi-Furnished</td>\n",
       "    </tr>\n",
       "    <tr>\n",
       "      <th>2</th>\n",
       "      <td>2</td>\n",
       "      <td>2</td>\n",
       "      <td>BHK</td>\n",
       "      <td>Independent House</td>\n",
       "      <td>21000.0</td>\n",
       "      <td>1000</td>\n",
       "      <td>Semi-Furnished</td>\n",
       "    </tr>\n",
       "    <tr>\n",
       "      <th>3</th>\n",
       "      <td>1</td>\n",
       "      <td>1</td>\n",
       "      <td>BHK</td>\n",
       "      <td>Apartment</td>\n",
       "      <td>9000.0</td>\n",
       "      <td>550</td>\n",
       "      <td>Semi-Furnished</td>\n",
       "    </tr>\n",
       "    <tr>\n",
       "      <th>4</th>\n",
       "      <td>3</td>\n",
       "      <td>3</td>\n",
       "      <td>BHK</td>\n",
       "      <td>Apartment</td>\n",
       "      <td>17000.0</td>\n",
       "      <td>1230</td>\n",
       "      <td>Furnished</td>\n",
       "    </tr>\n",
       "  </tbody>\n",
       "</table>\n",
       "</div>"
      ],
      "text/plain": [
       "   bedroom  bathroom layout_type      property_type    price  area  \\\n",
       "0        2         2         BHK  Independent Floor  20000.0  1140   \n",
       "1        2         2         BHK  Independent House   8000.0   840   \n",
       "2        2         2         BHK  Independent House  21000.0  1000   \n",
       "3        1         1         BHK          Apartment   9000.0   550   \n",
       "4        3         3         BHK          Apartment  17000.0  1230   \n",
       "\n",
       "     furnish_type  \n",
       "0  Semi-Furnished  \n",
       "1  Semi-Furnished  \n",
       "2  Semi-Furnished  \n",
       "3  Semi-Furnished  \n",
       "4       Furnished  "
      ]
     },
     "execution_count": 3,
     "metadata": {},
     "output_type": "execute_result"
    }
   ],
   "source": [
    "df.head()"
   ]
  },
  {
   "cell_type": "markdown",
   "id": "8149d3ba",
   "metadata": {},
   "source": [
    "Printing the last 5 rows of dataframe"
   ]
  },
  {
   "cell_type": "code",
   "execution_count": 4,
   "id": "f7a3aeb5",
   "metadata": {},
   "outputs": [
    {
     "data": {
      "text/html": [
       "<div>\n",
       "<style scoped>\n",
       "    .dataframe tbody tr th:only-of-type {\n",
       "        vertical-align: middle;\n",
       "    }\n",
       "\n",
       "    .dataframe tbody tr th {\n",
       "        vertical-align: top;\n",
       "    }\n",
       "\n",
       "    .dataframe thead th {\n",
       "        text-align: right;\n",
       "    }\n",
       "</style>\n",
       "<table border=\"1\" class=\"dataframe\">\n",
       "  <thead>\n",
       "    <tr style=\"text-align: right;\">\n",
       "      <th></th>\n",
       "      <th>bedroom</th>\n",
       "      <th>bathroom</th>\n",
       "      <th>layout_type</th>\n",
       "      <th>property_type</th>\n",
       "      <th>price</th>\n",
       "      <th>area</th>\n",
       "      <th>furnish_type</th>\n",
       "    </tr>\n",
       "  </thead>\n",
       "  <tbody>\n",
       "    <tr>\n",
       "      <th>22692</th>\n",
       "      <td>1</td>\n",
       "      <td>1</td>\n",
       "      <td>BHK</td>\n",
       "      <td>Independent Floor</td>\n",
       "      <td>6000.0</td>\n",
       "      <td>500</td>\n",
       "      <td>Semi-Furnished</td>\n",
       "    </tr>\n",
       "    <tr>\n",
       "      <th>22693</th>\n",
       "      <td>2</td>\n",
       "      <td>1</td>\n",
       "      <td>BHK</td>\n",
       "      <td>Independent House</td>\n",
       "      <td>10500.0</td>\n",
       "      <td>400</td>\n",
       "      <td>Semi-Furnished</td>\n",
       "    </tr>\n",
       "    <tr>\n",
       "      <th>22694</th>\n",
       "      <td>2</td>\n",
       "      <td>2</td>\n",
       "      <td>BHK</td>\n",
       "      <td>Independent House</td>\n",
       "      <td>16000.0</td>\n",
       "      <td>1100</td>\n",
       "      <td>Semi-Furnished</td>\n",
       "    </tr>\n",
       "    <tr>\n",
       "      <th>22695</th>\n",
       "      <td>2</td>\n",
       "      <td>2</td>\n",
       "      <td>BHK</td>\n",
       "      <td>Apartment</td>\n",
       "      <td>24000.0</td>\n",
       "      <td>1000</td>\n",
       "      <td>Semi-Furnished</td>\n",
       "    </tr>\n",
       "    <tr>\n",
       "      <th>22696</th>\n",
       "      <td>3</td>\n",
       "      <td>3</td>\n",
       "      <td>BHK</td>\n",
       "      <td>Independent Floor</td>\n",
       "      <td>19000.0</td>\n",
       "      <td>1200</td>\n",
       "      <td>Semi-Furnished</td>\n",
       "    </tr>\n",
       "  </tbody>\n",
       "</table>\n",
       "</div>"
      ],
      "text/plain": [
       "       bedroom  bathroom layout_type      property_type    price  area  \\\n",
       "22692        1         1         BHK  Independent Floor   6000.0   500   \n",
       "22693        2         1         BHK  Independent House  10500.0   400   \n",
       "22694        2         2         BHK  Independent House  16000.0  1100   \n",
       "22695        2         2         BHK          Apartment  24000.0  1000   \n",
       "22696        3         3         BHK  Independent Floor  19000.0  1200   \n",
       "\n",
       "         furnish_type  \n",
       "22692  Semi-Furnished  \n",
       "22693  Semi-Furnished  \n",
       "22694  Semi-Furnished  \n",
       "22695  Semi-Furnished  \n",
       "22696  Semi-Furnished  "
      ]
     },
     "execution_count": 4,
     "metadata": {},
     "output_type": "execute_result"
    }
   ],
   "source": [
    "df.tail()"
   ]
  },
  {
   "cell_type": "markdown",
   "id": "677ba126",
   "metadata": {},
   "source": [
    "Checking for shape of our dataframe"
   ]
  },
  {
   "cell_type": "code",
   "execution_count": 5,
   "id": "f946e83f",
   "metadata": {},
   "outputs": [
    {
     "data": {
      "text/plain": [
       "(22697, 7)"
      ]
     },
     "execution_count": 5,
     "metadata": {},
     "output_type": "execute_result"
    }
   ],
   "source": [
    "df.shape"
   ]
  },
  {
   "cell_type": "markdown",
   "id": "f92f159e",
   "metadata": {},
   "source": [
    "Listing out the columns names of dataframe"
   ]
  },
  {
   "cell_type": "code",
   "execution_count": 6,
   "id": "8ae89902",
   "metadata": {},
   "outputs": [
    {
     "data": {
      "text/plain": [
       "Index(['bedroom', 'bathroom', 'layout_type', 'property_type', 'price', 'area',\n",
       "       'furnish_type'],\n",
       "      dtype='object')"
      ]
     },
     "execution_count": 6,
     "metadata": {},
     "output_type": "execute_result"
    }
   ],
   "source": [
    "df.columns"
   ]
  },
  {
   "cell_type": "markdown",
   "id": "4acbdc3c",
   "metadata": {},
   "source": [
    "Checking out for the missing values in dataframe"
   ]
  },
  {
   "cell_type": "code",
   "execution_count": 7,
   "id": "af282f65",
   "metadata": {},
   "outputs": [
    {
     "data": {
      "text/plain": [
       "bedroom          0\n",
       "bathroom         0\n",
       "layout_type      0\n",
       "property_type    0\n",
       "price            0\n",
       "area             0\n",
       "furnish_type     0\n",
       "dtype: int64"
      ]
     },
     "execution_count": 7,
     "metadata": {},
     "output_type": "execute_result"
    }
   ],
   "source": [
    "df.isnull().sum()"
   ]
  },
  {
   "cell_type": "markdown",
   "id": "bd598b0e",
   "metadata": {},
   "source": [
    "Getting the information about data types in dataframe"
   ]
  },
  {
   "cell_type": "code",
   "execution_count": 8,
   "id": "cbd8d691",
   "metadata": {},
   "outputs": [
    {
     "name": "stdout",
     "output_type": "stream",
     "text": [
      "<class 'pandas.core.frame.DataFrame'>\n",
      "RangeIndex: 22697 entries, 0 to 22696\n",
      "Data columns (total 7 columns):\n",
      " #   Column         Non-Null Count  Dtype  \n",
      "---  ------         --------------  -----  \n",
      " 0   bedroom        22697 non-null  int64  \n",
      " 1   bathroom       22697 non-null  int64  \n",
      " 2   layout_type    22697 non-null  object \n",
      " 3   property_type  22697 non-null  object \n",
      " 4   price          22697 non-null  float64\n",
      " 5   area           22697 non-null  int64  \n",
      " 6   furnish_type   22697 non-null  object \n",
      "dtypes: float64(1), int64(3), object(3)\n",
      "memory usage: 1.2+ MB\n"
     ]
    }
   ],
   "source": [
    "df.info()"
   ]
  },
  {
   "cell_type": "markdown",
   "id": "6ec8a215",
   "metadata": {},
   "source": [
    "Getting the statistics regarding our dataframe"
   ]
  },
  {
   "cell_type": "code",
   "execution_count": 9,
   "id": "fe391daf",
   "metadata": {},
   "outputs": [
    {
     "data": {
      "text/html": [
       "<div>\n",
       "<style scoped>\n",
       "    .dataframe tbody tr th:only-of-type {\n",
       "        vertical-align: middle;\n",
       "    }\n",
       "\n",
       "    .dataframe tbody tr th {\n",
       "        vertical-align: top;\n",
       "    }\n",
       "\n",
       "    .dataframe thead th {\n",
       "        text-align: right;\n",
       "    }\n",
       "</style>\n",
       "<table border=\"1\" class=\"dataframe\">\n",
       "  <thead>\n",
       "    <tr style=\"text-align: right;\">\n",
       "      <th></th>\n",
       "      <th>bedroom</th>\n",
       "      <th>bathroom</th>\n",
       "      <th>price</th>\n",
       "      <th>area</th>\n",
       "    </tr>\n",
       "  </thead>\n",
       "  <tbody>\n",
       "    <tr>\n",
       "      <th>count</th>\n",
       "      <td>22697.000000</td>\n",
       "      <td>22697.000000</td>\n",
       "      <td>22697.000000</td>\n",
       "      <td>22697.000000</td>\n",
       "    </tr>\n",
       "    <tr>\n",
       "      <th>mean</th>\n",
       "      <td>1.923470</td>\n",
       "      <td>1.820152</td>\n",
       "      <td>19792.939596</td>\n",
       "      <td>1098.033088</td>\n",
       "    </tr>\n",
       "    <tr>\n",
       "      <th>std</th>\n",
       "      <td>0.777335</td>\n",
       "      <td>0.753264</td>\n",
       "      <td>12088.477756</td>\n",
       "      <td>541.019284</td>\n",
       "    </tr>\n",
       "    <tr>\n",
       "      <th>min</th>\n",
       "      <td>1.000000</td>\n",
       "      <td>1.000000</td>\n",
       "      <td>1500.000000</td>\n",
       "      <td>100.000000</td>\n",
       "    </tr>\n",
       "    <tr>\n",
       "      <th>25%</th>\n",
       "      <td>1.000000</td>\n",
       "      <td>1.000000</td>\n",
       "      <td>11500.000000</td>\n",
       "      <td>650.000000</td>\n",
       "    </tr>\n",
       "    <tr>\n",
       "      <th>50%</th>\n",
       "      <td>2.000000</td>\n",
       "      <td>2.000000</td>\n",
       "      <td>17000.000000</td>\n",
       "      <td>1100.000000</td>\n",
       "    </tr>\n",
       "    <tr>\n",
       "      <th>75%</th>\n",
       "      <td>2.000000</td>\n",
       "      <td>2.000000</td>\n",
       "      <td>25000.000000</td>\n",
       "      <td>1350.000000</td>\n",
       "    </tr>\n",
       "    <tr>\n",
       "      <th>max</th>\n",
       "      <td>6.000000</td>\n",
       "      <td>4.000000</td>\n",
       "      <td>99000.000000</td>\n",
       "      <td>5500.000000</td>\n",
       "    </tr>\n",
       "  </tbody>\n",
       "</table>\n",
       "</div>"
      ],
      "text/plain": [
       "            bedroom      bathroom         price          area\n",
       "count  22697.000000  22697.000000  22697.000000  22697.000000\n",
       "mean       1.923470      1.820152  19792.939596   1098.033088\n",
       "std        0.777335      0.753264  12088.477756    541.019284\n",
       "min        1.000000      1.000000   1500.000000    100.000000\n",
       "25%        1.000000      1.000000  11500.000000    650.000000\n",
       "50%        2.000000      2.000000  17000.000000   1100.000000\n",
       "75%        2.000000      2.000000  25000.000000   1350.000000\n",
       "max        6.000000      4.000000  99000.000000   5500.000000"
      ]
     },
     "execution_count": 9,
     "metadata": {},
     "output_type": "execute_result"
    }
   ],
   "source": [
    "df.describe()"
   ]
  },
  {
   "cell_type": "markdown",
   "id": "58789ff3",
   "metadata": {},
   "source": [
    "Checking out for number of unique value present in each columns of dataframe"
   ]
  },
  {
   "cell_type": "code",
   "execution_count": 10,
   "id": "693ef11a",
   "metadata": {},
   "outputs": [
    {
     "data": {
      "text/plain": [
       "bedroom             6\n",
       "bathroom            4\n",
       "layout_type         2\n",
       "property_type       6\n",
       "price             547\n",
       "area             1035\n",
       "furnish_type        3\n",
       "dtype: int64"
      ]
     },
     "execution_count": 10,
     "metadata": {},
     "output_type": "execute_result"
    }
   ],
   "source": [
    "df.nunique()"
   ]
  },
  {
   "cell_type": "markdown",
   "id": "d346fd74",
   "metadata": {},
   "source": [
    "In order to visualise the data, I am importing below libraries "
   ]
  },
  {
   "cell_type": "code",
   "execution_count": 11,
   "id": "8e9a3864",
   "metadata": {},
   "outputs": [],
   "source": [
    "import matplotlib.pyplot as plt\n",
    "import seaborn as sns\n",
    "import warnings\n",
    "warnings.filterwarnings(\"ignore\")"
   ]
  },
  {
   "cell_type": "markdown",
   "id": "e70c8880",
   "metadata": {},
   "source": [
    "checking out for unique value for layout type column"
   ]
  },
  {
   "cell_type": "code",
   "execution_count": 12,
   "id": "21453eff",
   "metadata": {},
   "outputs": [
    {
     "data": {
      "text/plain": [
       "array(['BHK', 'RK'], dtype=object)"
      ]
     },
     "execution_count": 12,
     "metadata": {},
     "output_type": "execute_result"
    }
   ],
   "source": [
    "df['layout_type'].unique()"
   ]
  },
  {
   "cell_type": "markdown",
   "id": "7a26e2e7",
   "metadata": {},
   "source": [
    "getting the numbers for each unique characters "
   ]
  },
  {
   "cell_type": "code",
   "execution_count": 13,
   "id": "9312d761",
   "metadata": {},
   "outputs": [
    {
     "data": {
      "text/plain": [
       "BHK    21675\n",
       "RK      1022\n",
       "Name: layout_type, dtype: int64"
      ]
     },
     "execution_count": 13,
     "metadata": {},
     "output_type": "execute_result"
    }
   ],
   "source": [
    "df['layout_type'].value_counts()"
   ]
  },
  {
   "cell_type": "markdown",
   "id": "22ac66cf",
   "metadata": {},
   "source": [
    "Visualising through graphs"
   ]
  },
  {
   "cell_type": "code",
   "execution_count": 14,
   "id": "bd25d5ca",
   "metadata": {},
   "outputs": [
    {
     "data": {
      "image/png": "[encoded data removed]",
      "text/plain": [
       "<Figure size 1080x432 with 1 Axes>"
      ]
     },
     "metadata": {
      "needs_background": "light"
     },
     "output_type": "display_data"
    }
   ],
   "source": [
    "plt.figure(figsize=(15,6))\n",
    "sns.countplot('layout_type', data = df, palette = 'hls')\n",
    "plt.xticks(rotation = 90)\n",
    "plt.show()"
   ]
  },
  {
   "cell_type": "markdown",
   "id": "6c7600d8",
   "metadata": {},
   "source": [
    "checking out for unique value for property type column"
   ]
  },
  {
   "cell_type": "code",
   "execution_count": 15,
   "id": "aec59e52",
   "metadata": {},
   "outputs": [
    {
     "data": {
      "text/plain": [
       "array(['Independent Floor', 'Independent House', 'Apartment',\n",
       "       'Studio Apartment', 'Villa', 'Penthouse'], dtype=object)"
      ]
     },
     "execution_count": 15,
     "metadata": {},
     "output_type": "execute_result"
    }
   ],
   "source": [
    "df['property_type'].unique()"
   ]
  },
  {
   "cell_type": "markdown",
   "id": "4fdbe6d8",
   "metadata": {},
   "source": [
    "getting the numbers for each unique characters"
   ]
  },
  {
   "cell_type": "code",
   "execution_count": 16,
   "id": "cbd59bbf",
   "metadata": {},
   "outputs": [
    {
     "data": {
      "text/plain": [
       "Apartment            12533\n",
       "Independent House     4627\n",
       "Independent Floor     4237\n",
       "Studio Apartment      1022\n",
       "Villa                  257\n",
       "Penthouse               21\n",
       "Name: property_type, dtype: int64"
      ]
     },
     "execution_count": 16,
     "metadata": {},
     "output_type": "execute_result"
    }
   ],
   "source": [
    "df['property_type'].value_counts()"
   ]
  },
  {
   "cell_type": "markdown",
   "id": "35607098",
   "metadata": {},
   "source": [
    "Visualising through graphs"
   ]
  },
  {
   "cell_type": "code",
   "execution_count": 17,
   "id": "845d6e4a",
   "metadata": {
    "scrolled": true
   },
   "outputs": [
    {
     "data": {
      "image/png": "[encoded data removed]",
      "text/plain": [
       "<Figure size 1080x432 with 1 Axes>"
      ]
     },
     "metadata": {
      "needs_background": "light"
     },
     "output_type": "display_data"
    }
   ],
   "source": [
    "plt.figure(figsize=(15,6))\n",
    "sns.countplot('property_type', data = df, palette = 'hls')\n",
    "plt.xticks(rotation = 90)\n",
    "plt.show()"
   ]
  },
  {
   "cell_type": "markdown",
   "id": "c78d2c62",
   "metadata": {},
   "source": [
    "Getting donut graph representing the percentage share of each characters in layout type column"
   ]
  },
  {
   "cell_type": "code",
   "execution_count": 18,
   "id": "05a670d4",
   "metadata": {},
   "outputs": [
    {
     "data": {
      "image/png": "[encoded data removed]",
      "text/plain": [
       "<Figure size 1008x720 with 1 Axes>"
      ]
     },
     "metadata": {},
     "output_type": "display_data"
    }
   ],
   "source": [
    "label_data = df['layout_type'].value_counts()\n",
    "explode = (0.1, 0.1)\n",
    "plt.figure(figsize=(14, 10))\n",
    "patches, texts, pcts = plt.pie(label_data,\n",
    " labels = label_data.index,\n",
    " colors = ['blue', 'red'],\n",
    " pctdistance = 0.65,\n",
    " shadow = True,\n",
    " startangle = 90,\n",
    " explode = explode,\n",
    " autopct = '%1.1f%%',\n",
    " textprops={ 'fontsize': 15,\n",
    " 'color': 'black',\n",
    " 'weight': 'bold',\n",
    " 'family': 'serif' })\n",
    "plt.setp(pcts, color='white')\n",
    "hfont = {'fontname':'serif', 'weight': 'bold'}\n",
    "plt.title('layout_type', size=20, **hfont)\n",
    "centre_circle = plt.Circle((0,0),0.40,fc='white')\n",
    "fig = plt.gcf()\n",
    "fig.gca().add_artist(centre_circle)\n",
    "plt.show()"
   ]
  },
  {
   "cell_type": "markdown",
   "id": "05e30943",
   "metadata": {},
   "source": [
    "Getting donut graph representing the percentage share of each characters in property type column"
   ]
  },
  {
   "cell_type": "code",
   "execution_count": 19,
   "id": "102fd942",
   "metadata": {},
   "outputs": [
    {
     "data": {
      "image/png": "[encoded data removed]",
      "text/plain": [
       "<Figure size 1008x720 with 1 Axes>"
      ]
     },
     "metadata": {},
     "output_type": "display_data"
    }
   ],
   "source": [
    "label_data = df['property_type'].value_counts()\n",
    "explode = (0.1, 0.1, 0.1, 0.1, 0.1, 0.1)\n",
    "plt.figure(figsize=(14, 10))\n",
    "patches, texts, pcts = plt.pie(label_data,\n",
    " labels = label_data.index,\n",
    " colors = ['blue', 'red', 'green', 'yellow', 'orange', 'pink'],\n",
    " pctdistance = 0.65,\n",
    " shadow = True,\n",
    " startangle = 90,\n",
    " explode = explode,\n",
    " autopct = '%1.1f%%',\n",
    " textprops={ 'fontsize': 10,\n",
    " 'color': 'black',\n",
    " 'weight': 'bold',\n",
    " 'family': 'serif' })\n",
    "plt.setp(pcts, color='white')\n",
    "hfont = {'fontname':'serif', 'weight': 'bold'}\n",
    "plt.title('property_type', size=20, **hfont)\n",
    "centre_circle = plt.Circle((0,0),0.40,fc='white')\n",
    "fig = plt.gcf()\n",
    "fig.gca().add_artist(centre_circle)\n",
    "plt.show()"
   ]
  },
  {
   "cell_type": "markdown",
   "id": "0e300bb1",
   "metadata": {},
   "source": [
    "checking out for unique value for furnish type column"
   ]
  },
  {
   "cell_type": "code",
   "execution_count": 20,
   "id": "21e0fda6",
   "metadata": {},
   "outputs": [
    {
     "data": {
      "text/plain": [
       "array(['Semi-Furnished', 'Furnished', 'Unfurnished'], dtype=object)"
      ]
     },
     "execution_count": 20,
     "metadata": {},
     "output_type": "execute_result"
    }
   ],
   "source": [
    "df['furnish_type'].unique()"
   ]
  },
  {
   "cell_type": "markdown",
   "id": "da77b1ae",
   "metadata": {},
   "source": [
    "getting the numbers for each unique characters"
   ]
  },
  {
   "cell_type": "code",
   "execution_count": 21,
   "id": "3a7cf9f1",
   "metadata": {},
   "outputs": [
    {
     "data": {
      "text/plain": [
       "Semi-Furnished    18900\n",
       "Furnished          2309\n",
       "Unfurnished        1488\n",
       "Name: furnish_type, dtype: int64"
      ]
     },
     "execution_count": 21,
     "metadata": {},
     "output_type": "execute_result"
    }
   ],
   "source": [
    "df['furnish_type'].value_counts()"
   ]
  },
  {
   "cell_type": "markdown",
   "id": "153cf3a4",
   "metadata": {},
   "source": [
    "Visualising through graphs"
   ]
  },
  {
   "cell_type": "code",
   "execution_count": 22,
   "id": "295d3030",
   "metadata": {},
   "outputs": [
    {
     "data": {
      "image/png": "[encoded data removed]",
      "text/plain": [
       "<Figure size 1080x432 with 1 Axes>"
      ]
     },
     "metadata": {
      "needs_background": "light"
     },
     "output_type": "display_data"
    }
   ],
   "source": [
    "plt.figure(figsize=(15,6))\n",
    "sns.countplot('furnish_type', data = df, palette = 'hls')\n",
    "plt.xticks(rotation = 90)\n",
    "plt.show()"
   ]
  },
  {
   "cell_type": "code",
   "execution_count": 23,
   "id": "002df71d",
   "metadata": {},
   "outputs": [
    {
     "data": {
      "image/png": "[encoded data removed]",
      "text/plain": [
       "<Figure size 1008x720 with 1 Axes>"
      ]
     },
     "metadata": {},
     "output_type": "display_data"
    }
   ],
   "source": [
    "label_data = df['furnish_type'].value_counts()\n",
    "explode = (0.1, 0.1, 0.1)\n",
    "plt.figure(figsize=(14, 10))\n",
    "patches, texts, pcts = plt.pie(label_data,\n",
    " labels = label_data.index,\n",
    " colors = ['gold', 'orange','purple'],\n",
    " pctdistance = 0.65,\n",
    " shadow = True,\n",
    " startangle = 90,\n",
    " explode = explode,\n",
    " autopct = '%1.1f%%',\n",
    " textprops={ 'fontsize': 15,\n",
    " 'color': 'black',\n",
    " 'weight': 'bold',\n",
    " 'family': 'serif' })\n",
    "plt.setp(pcts, color='white')\n",
    "hfont = {'fontname':'serif', 'weight': 'bold'}\n",
    "plt.title('furnish_type', size=20, **hfont)\n",
    "centre_circle = plt.Circle((0,0),0.40,fc='white')\n",
    "fig = plt.gcf()\n",
    "fig.gca().add_artist(centre_circle)\n",
    "plt.show()"
   ]
  },
  {
   "cell_type": "markdown",
   "id": "8b5e8dc5",
   "metadata": {},
   "source": [
    "checking out for unique value for number of bedrooms column"
   ]
  },
  {
   "cell_type": "code",
   "execution_count": 24,
   "id": "6a38dfab",
   "metadata": {},
   "outputs": [
    {
     "data": {
      "text/plain": [
       "array([2, 1, 3, 4, 5, 6], dtype=int64)"
      ]
     },
     "execution_count": 24,
     "metadata": {},
     "output_type": "execute_result"
    }
   ],
   "source": [
    "df['bedroom'].unique()"
   ]
  },
  {
   "cell_type": "markdown",
   "id": "7bad746c",
   "metadata": {},
   "source": [
    "getting the numbers for each unique characters"
   ]
  },
  {
   "cell_type": "code",
   "execution_count": 25,
   "id": "b8b65fe2",
   "metadata": {},
   "outputs": [
    {
     "data": {
      "text/plain": [
       "2    10286\n",
       "1     7299\n",
       "3     4698\n",
       "4      385\n",
       "5       22\n",
       "6        7\n",
       "Name: bedroom, dtype: int64"
      ]
     },
     "execution_count": 25,
     "metadata": {},
     "output_type": "execute_result"
    }
   ],
   "source": [
    "df['bedroom'].value_counts()"
   ]
  },
  {
   "cell_type": "markdown",
   "id": "2fa48b74",
   "metadata": {},
   "source": [
    "Visualising through graphs"
   ]
  },
  {
   "cell_type": "code",
   "execution_count": 26,
   "id": "0c71b131",
   "metadata": {},
   "outputs": [
    {
     "data": {
      "image/png": "[encoded data removed]",
      "text/plain": [
       "<Figure size 1080x432 with 1 Axes>"
      ]
     },
     "metadata": {
      "needs_background": "light"
     },
     "output_type": "display_data"
    }
   ],
   "source": [
    "plt.figure(figsize=(15,6))\n",
    "sns.countplot('bedroom', data = df, palette = 'hls')\n",
    "plt.xticks(rotation = 90)\n",
    "plt.show()"
   ]
  },
  {
   "cell_type": "code",
   "execution_count": 27,
   "id": "4bc9e7a2",
   "metadata": {},
   "outputs": [
    {
     "data": {
      "image/png": "[encoded data removed]",
      "text/plain": [
       "<Figure size 1008x432 with 1 Axes>"
      ]
     },
     "metadata": {},
     "output_type": "display_data"
    }
   ],
   "source": [
    "label_data = df['bedroom'].value_counts()\n",
    "explode = (0.1, 0.1, 0.1, 0.1, 0.1, 0.1)\n",
    "plt.figure(figsize=(14, 6))\n",
    "patches, texts, pcts = plt.pie(label_data,\n",
    " labels = label_data.index,\n",
    " colors = ['blue', 'red', 'green', 'yellow', 'orange', 'pink'],\n",
    " pctdistance = 0.65,\n",
    " shadow = True,\n",
    " startangle = 90,\n",
    " explode = explode,\n",
    " autopct = '%1.1f%%',\n",
    " textprops={ 'fontsize': 15,\n",
    " 'color': 'black',\n",
    " 'weight': 'bold',\n",
    " 'family': 'serif' })\n",
    "plt.setp(pcts, color='white')\n",
    "hfont = {'fontname':'serif', 'weight': 'bold'}\n",
    "plt.title('bedroom', size=20, **hfont)\n",
    "centre_circle = plt.Circle((0,0),0.40,fc='white')\n",
    "fig = plt.gcf()\n",
    "fig.gca().add_artist(centre_circle)\n",
    "plt.show()"
   ]
  },
  {
   "cell_type": "markdown",
   "id": "a0acd6c8",
   "metadata": {},
   "source": [
    "checking out for unique value for number of bathrooms column"
   ]
  },
  {
   "cell_type": "code",
   "execution_count": 28,
   "id": "f31b4536",
   "metadata": {},
   "outputs": [
    {
     "data": {
      "text/plain": [
       "array([2, 1, 3, 4], dtype=int64)"
      ]
     },
     "execution_count": 28,
     "metadata": {},
     "output_type": "execute_result"
    }
   ],
   "source": [
    "df['bathroom'].unique()"
   ]
  },
  {
   "cell_type": "markdown",
   "id": "b4a160b6",
   "metadata": {},
   "source": [
    "getting the numbers for each unique characters"
   ]
  },
  {
   "cell_type": "code",
   "execution_count": 29,
   "id": "f1eac8d3",
   "metadata": {},
   "outputs": [
    {
     "data": {
      "text/plain": [
       "2    10342\n",
       "1     8428\n",
       "3     3508\n",
       "4      419\n",
       "Name: bathroom, dtype: int64"
      ]
     },
     "execution_count": 29,
     "metadata": {},
     "output_type": "execute_result"
    }
   ],
   "source": [
    "df['bathroom'].value_counts()"
   ]
  },
  {
   "cell_type": "markdown",
   "id": "a9addd4a",
   "metadata": {},
   "source": [
    "Visualising through graphs"
   ]
  },
  {
   "cell_type": "code",
   "execution_count": 30,
   "id": "0bbec195",
   "metadata": {},
   "outputs": [
    {
     "data": {
      "image/png": "[encoded data removed]",
      "text/plain": [
       "<Figure size 1080x432 with 1 Axes>"
      ]
     },
     "metadata": {
      "needs_background": "light"
     },
     "output_type": "display_data"
    }
   ],
   "source": [
    "plt.figure(figsize=(15,6))\n",
    "sns.countplot('bathroom', data = df, palette = 'hls')\n",
    "plt.xticks(rotation = 90)\n",
    "plt.show()"
   ]
  },
  {
   "cell_type": "code",
   "execution_count": 31,
   "id": "6ac0bbe1",
   "metadata": {},
   "outputs": [
    {
     "data": {
      "image/png": "[encoded data removed]",
      "text/plain": [
       "<Figure size 1008x720 with 1 Axes>"
      ]
     },
     "metadata": {},
     "output_type": "display_data"
    }
   ],
   "source": [
    "label_data = df['bathroom'].value_counts()\n",
    "explode = (0.1, 0.1, 0.1, 0.1)\n",
    "plt.figure(figsize=(14, 10))\n",
    "patches, texts, pcts = plt.pie(label_data,\n",
    " labels = label_data.index,\n",
    " colors = ['green', 'blue', 'orange', 'pink'],\n",
    " pctdistance = 0.65,\n",
    " shadow = True,\n",
    " startangle = 90,\n",
    " explode = explode,\n",
    " autopct = '%1.1f%%',\n",
    " textprops={ 'fontsize': 15,\n",
    " 'color': 'black',\n",
    " 'weight': 'bold',\n",
    " 'family': 'serif' })\n",
    "plt.setp(pcts, color='white')\n",
    "hfont = {'fontname':'serif', 'weight': 'bold'}\n",
    "plt.title('bathroom', size=20, **hfont)\n",
    "centre_circle = plt.Circle((0,0),0.40,fc='white')\n",
    "fig = plt.gcf()\n",
    "fig.gca().add_artist(centre_circle)\n",
    "plt.show()"
   ]
  },
  {
   "cell_type": "markdown",
   "id": "d442ed74",
   "metadata": {},
   "source": [
    "Visualising the relationship between area and price through scatterplot graph"
   ]
  },
  {
   "cell_type": "code",
   "execution_count": 32,
   "id": "7aa114cb",
   "metadata": {},
   "outputs": [
    {
     "data": {
      "image/png": "[encoded data removed]",
      "text/plain": [
       "<Figure size 1080x432 with 1 Axes>"
      ]
     },
     "metadata": {
      "needs_background": "light"
     },
     "output_type": "display_data"
    }
   ],
   "source": [
    "plt.figure(figsize=(15,6))\n",
    "sns.scatterplot(x= df['area'], y = df['price'], data = df, \n",
    " palette = 'hls')\n",
    "plt.xticks(rotation = 90)\n",
    "plt.show()"
   ]
  },
  {
   "cell_type": "markdown",
   "id": "9aba2106",
   "metadata": {},
   "source": [
    "Visualising the relationship between number of bedrooms and price through barplot graph"
   ]
  },
  {
   "cell_type": "code",
   "execution_count": 33,
   "id": "46bc1862",
   "metadata": {},
   "outputs": [
    {
     "data": {
      "image/png": "[encoded data removed]",
      "text/plain": [
       "<Figure size 1080x432 with 1 Axes>"
      ]
     },
     "metadata": {
      "needs_background": "light"
     },
     "output_type": "display_data"
    }
   ],
   "source": [
    "plt.figure(figsize=(15,6))\n",
    "sns.barplot(y = df['price'], x = df['bedroom'], data = df, \n",
    " palette = 'hls')\n",
    "plt.xticks(rotation = 90)\n",
    "plt.show()"
   ]
  },
  {
   "cell_type": "markdown",
   "id": "25fa3ef0",
   "metadata": {},
   "source": [
    "Visualising the relationship between number of bathrooms and price through barplot graph"
   ]
  },
  {
   "cell_type": "code",
   "execution_count": 34,
   "id": "3eede54a",
   "metadata": {},
   "outputs": [
    {
     "data": {
      "image/png": "[encoded data removed]",
      "text/plain": [
       "<Figure size 1080x432 with 1 Axes>"
      ]
     },
     "metadata": {
      "needs_background": "light"
     },
     "output_type": "display_data"
    }
   ],
   "source": [
    "plt.figure(figsize=(15,6))\n",
    "sns.barplot(y = df['price'], x = df['bathroom'], data = df, \n",
    " palette = 'hls')\n",
    "plt.xticks(rotation = 90)\n",
    "plt.show()"
   ]
  },
  {
   "cell_type": "markdown",
   "id": "7df10d7a",
   "metadata": {},
   "source": [
    "Visualising the relationship between furnished conditions and price through barplot graph"
   ]
  },
  {
   "cell_type": "code",
   "execution_count": 35,
   "id": "79af9779",
   "metadata": {},
   "outputs": [
    {
     "data": {
      "image/png": "[encoded data removed]",
      "text/plain": [
       "<Figure size 1080x432 with 1 Axes>"
      ]
     },
     "metadata": {
      "needs_background": "light"
     },
     "output_type": "display_data"
    }
   ],
   "source": [
    "plt.figure(figsize=(15,6))\n",
    "sns.barplot(y = df['price'], x = df['furnish_type'], data = df, \n",
    " palette = 'hls')\n",
    "plt.xticks(rotation = 90)\n",
    "plt.show()"
   ]
  },
  {
   "cell_type": "markdown",
   "id": "f4aa91a9",
   "metadata": {},
   "source": [
    "Visualising the relationship between layout type and price through barplot graph"
   ]
  },
  {
   "cell_type": "code",
   "execution_count": 36,
   "id": "873979f5",
   "metadata": {},
   "outputs": [
    {
     "data": {
      "image/png": "[encoded data removed]",
      "text/plain": [
       "<Figure size 1080x432 with 1 Axes>"
      ]
     },
     "metadata": {
      "needs_background": "light"
     },
     "output_type": "display_data"
    }
   ],
   "source": [
    "plt.figure(figsize=(15,6))\n",
    "sns.barplot(y = df['price'], x = df['layout_type'], data = df, \n",
    " palette = 'hls')\n",
    "plt.xticks(rotation = 90)\n",
    "plt.show()"
   ]
  },
  {
   "cell_type": "markdown",
   "id": "826856cb",
   "metadata": {},
   "source": [
    "Visualising the relationship between property type and price through barplot graph"
   ]
  },
  {
   "cell_type": "code",
   "execution_count": 37,
   "id": "906e1f1e",
   "metadata": {},
   "outputs": [
    {
     "data": {
      "image/png": "[encoded data removed]",
      "text/plain": [
       "<Figure size 1080x432 with 1 Axes>"
      ]
     },
     "metadata": {
      "needs_background": "light"
     },
     "output_type": "display_data"
    }
   ],
   "source": [
    "plt.figure(figsize=(15,6))\n",
    "sns.barplot(y = df['price'], x = df['property_type'], data = df, \n",
    " palette = 'hls')\n",
    "plt.xticks(rotation = 90)\n",
    "plt.show()"
   ]
  },
  {
   "cell_type": "markdown",
   "id": "d8911455",
   "metadata": {},
   "source": [
    "Creating a heat map correlation matrix to analyse the relation between the variables"
   ]
  },
  {
   "cell_type": "code",
   "execution_count": 38,
   "id": "7bb0b03d",
   "metadata": {},
   "outputs": [
    {
     "data": {
      "image/png": "[encoded data removed]",
      "text/plain": [
       "<Figure size 1080x504 with 2 Axes>"
      ]
     },
     "metadata": {
      "needs_background": "light"
     },
     "output_type": "display_data"
    }
   ],
   "source": [
    "plt.figure(figsize=(15,7))\n",
    "sns.heatmap(df.corr(), annot=True)\n",
    "plt.show()"
   ]
  },
  {
   "cell_type": "markdown",
   "id": "57c52d88",
   "metadata": {},
   "source": [
    "Naming the columns to get dummies and concating the dummies into main dataframe at once"
   ]
  },
  {
   "cell_type": "code",
   "execution_count": 39,
   "id": "cdd5a81d",
   "metadata": {},
   "outputs": [],
   "source": [
    "cols = ['layout_type','property_type','furnish_type']"
   ]
  },
  {
   "cell_type": "code",
   "execution_count": 40,
   "id": "42e7e13e",
   "metadata": {},
   "outputs": [],
   "source": [
    "for col in cols:\n",
    " one = pd.get_dummies(df[col],prefix=col)\n",
    " df = pd.concat([df,one],axis=1).drop(col,axis=1)"
   ]
  },
  {
   "cell_type": "code",
   "execution_count": 41,
   "id": "7c6cbab3",
   "metadata": {},
   "outputs": [
    {
     "data": {
      "text/html": [
       "<div>\n",
       "<style scoped>\n",
       "    .dataframe tbody tr th:only-of-type {\n",
       "        vertical-align: middle;\n",
       "    }\n",
       "\n",
       "    .dataframe tbody tr th {\n",
       "        vertical-align: top;\n",
       "    }\n",
       "\n",
       "    .dataframe thead th {\n",
       "        text-align: right;\n",
       "    }\n",
       "</style>\n",
       "<table border=\"1\" class=\"dataframe\">\n",
       "  <thead>\n",
       "    <tr style=\"text-align: right;\">\n",
       "      <th></th>\n",
       "      <th>bedroom</th>\n",
       "      <th>bathroom</th>\n",
       "      <th>price</th>\n",
       "      <th>area</th>\n",
       "      <th>layout_type_BHK</th>\n",
       "      <th>layout_type_RK</th>\n",
       "      <th>property_type_Apartment</th>\n",
       "      <th>property_type_Independent Floor</th>\n",
       "      <th>property_type_Independent House</th>\n",
       "      <th>property_type_Penthouse</th>\n",
       "      <th>property_type_Studio Apartment</th>\n",
       "      <th>property_type_Villa</th>\n",
       "      <th>furnish_type_Furnished</th>\n",
       "      <th>furnish_type_Semi-Furnished</th>\n",
       "      <th>furnish_type_Unfurnished</th>\n",
       "    </tr>\n",
       "  </thead>\n",
       "  <tbody>\n",
       "    <tr>\n",
       "      <th>0</th>\n",
       "      <td>2</td>\n",
       "      <td>2</td>\n",
       "      <td>20000.0</td>\n",
       "      <td>1140</td>\n",
       "      <td>1</td>\n",
       "      <td>0</td>\n",
       "      <td>0</td>\n",
       "      <td>1</td>\n",
       "      <td>0</td>\n",
       "      <td>0</td>\n",
       "      <td>0</td>\n",
       "      <td>0</td>\n",
       "      <td>0</td>\n",
       "      <td>1</td>\n",
       "      <td>0</td>\n",
       "    </tr>\n",
       "    <tr>\n",
       "      <th>1</th>\n",
       "      <td>2</td>\n",
       "      <td>2</td>\n",
       "      <td>8000.0</td>\n",
       "      <td>840</td>\n",
       "      <td>1</td>\n",
       "      <td>0</td>\n",
       "      <td>0</td>\n",
       "      <td>0</td>\n",
       "      <td>1</td>\n",
       "      <td>0</td>\n",
       "      <td>0</td>\n",
       "      <td>0</td>\n",
       "      <td>0</td>\n",
       "      <td>1</td>\n",
       "      <td>0</td>\n",
       "    </tr>\n",
       "    <tr>\n",
       "      <th>2</th>\n",
       "      <td>2</td>\n",
       "      <td>2</td>\n",
       "      <td>21000.0</td>\n",
       "      <td>1000</td>\n",
       "      <td>1</td>\n",
       "      <td>0</td>\n",
       "      <td>0</td>\n",
       "      <td>0</td>\n",
       "      <td>1</td>\n",
       "      <td>0</td>\n",
       "      <td>0</td>\n",
       "      <td>0</td>\n",
       "      <td>0</td>\n",
       "      <td>1</td>\n",
       "      <td>0</td>\n",
       "    </tr>\n",
       "    <tr>\n",
       "      <th>3</th>\n",
       "      <td>1</td>\n",
       "      <td>1</td>\n",
       "      <td>9000.0</td>\n",
       "      <td>550</td>\n",
       "      <td>1</td>\n",
       "      <td>0</td>\n",
       "      <td>1</td>\n",
       "      <td>0</td>\n",
       "      <td>0</td>\n",
       "      <td>0</td>\n",
       "      <td>0</td>\n",
       "      <td>0</td>\n",
       "      <td>0</td>\n",
       "      <td>1</td>\n",
       "      <td>0</td>\n",
       "    </tr>\n",
       "    <tr>\n",
       "      <th>4</th>\n",
       "      <td>3</td>\n",
       "      <td>3</td>\n",
       "      <td>17000.0</td>\n",
       "      <td>1230</td>\n",
       "      <td>1</td>\n",
       "      <td>0</td>\n",
       "      <td>1</td>\n",
       "      <td>0</td>\n",
       "      <td>0</td>\n",
       "      <td>0</td>\n",
       "      <td>0</td>\n",
       "      <td>0</td>\n",
       "      <td>1</td>\n",
       "      <td>0</td>\n",
       "      <td>0</td>\n",
       "    </tr>\n",
       "    <tr>\n",
       "      <th>...</th>\n",
       "      <td>...</td>\n",
       "      <td>...</td>\n",
       "      <td>...</td>\n",
       "      <td>...</td>\n",
       "      <td>...</td>\n",
       "      <td>...</td>\n",
       "      <td>...</td>\n",
       "      <td>...</td>\n",
       "      <td>...</td>\n",
       "      <td>...</td>\n",
       "      <td>...</td>\n",
       "      <td>...</td>\n",
       "      <td>...</td>\n",
       "      <td>...</td>\n",
       "      <td>...</td>\n",
       "    </tr>\n",
       "    <tr>\n",
       "      <th>22692</th>\n",
       "      <td>1</td>\n",
       "      <td>1</td>\n",
       "      <td>6000.0</td>\n",
       "      <td>500</td>\n",
       "      <td>1</td>\n",
       "      <td>0</td>\n",
       "      <td>0</td>\n",
       "      <td>1</td>\n",
       "      <td>0</td>\n",
       "      <td>0</td>\n",
       "      <td>0</td>\n",
       "      <td>0</td>\n",
       "      <td>0</td>\n",
       "      <td>1</td>\n",
       "      <td>0</td>\n",
       "    </tr>\n",
       "    <tr>\n",
       "      <th>22693</th>\n",
       "      <td>2</td>\n",
       "      <td>1</td>\n",
       "      <td>10500.0</td>\n",
       "      <td>400</td>\n",
       "      <td>1</td>\n",
       "      <td>0</td>\n",
       "      <td>0</td>\n",
       "      <td>0</td>\n",
       "      <td>1</td>\n",
       "      <td>0</td>\n",
       "      <td>0</td>\n",
       "      <td>0</td>\n",
       "      <td>0</td>\n",
       "      <td>1</td>\n",
       "      <td>0</td>\n",
       "    </tr>\n",
       "    <tr>\n",
       "      <th>22694</th>\n",
       "      <td>2</td>\n",
       "      <td>2</td>\n",
       "      <td>16000.0</td>\n",
       "      <td>1100</td>\n",
       "      <td>1</td>\n",
       "      <td>0</td>\n",
       "      <td>0</td>\n",
       "      <td>0</td>\n",
       "      <td>1</td>\n",
       "      <td>0</td>\n",
       "      <td>0</td>\n",
       "      <td>0</td>\n",
       "      <td>0</td>\n",
       "      <td>1</td>\n",
       "      <td>0</td>\n",
       "    </tr>\n",
       "    <tr>\n",
       "      <th>22695</th>\n",
       "      <td>2</td>\n",
       "      <td>2</td>\n",
       "      <td>24000.0</td>\n",
       "      <td>1000</td>\n",
       "      <td>1</td>\n",
       "      <td>0</td>\n",
       "      <td>1</td>\n",
       "      <td>0</td>\n",
       "      <td>0</td>\n",
       "      <td>0</td>\n",
       "      <td>0</td>\n",
       "      <td>0</td>\n",
       "      <td>0</td>\n",
       "      <td>1</td>\n",
       "      <td>0</td>\n",
       "    </tr>\n",
       "    <tr>\n",
       "      <th>22696</th>\n",
       "      <td>3</td>\n",
       "      <td>3</td>\n",
       "      <td>19000.0</td>\n",
       "      <td>1200</td>\n",
       "      <td>1</td>\n",
       "      <td>0</td>\n",
       "      <td>0</td>\n",
       "      <td>1</td>\n",
       "      <td>0</td>\n",
       "      <td>0</td>\n",
       "      <td>0</td>\n",
       "      <td>0</td>\n",
       "      <td>0</td>\n",
       "      <td>1</td>\n",
       "      <td>0</td>\n",
       "    </tr>\n",
       "  </tbody>\n",
       "</table>\n",
       "<p>22697 rows × 15 columns</p>\n",
       "</div>"
      ],
      "text/plain": [
       "       bedroom  bathroom    price  area  layout_type_BHK  layout_type_RK  \\\n",
       "0            2         2  20000.0  1140                1               0   \n",
       "1            2         2   8000.0   840                1               0   \n",
       "2            2         2  21000.0  1000                1               0   \n",
       "3            1         1   9000.0   550                1               0   \n",
       "4            3         3  17000.0  1230                1               0   \n",
       "...        ...       ...      ...   ...              ...             ...   \n",
       "22692        1         1   6000.0   500                1               0   \n",
       "22693        2         1  10500.0   400                1               0   \n",
       "22694        2         2  16000.0  1100                1               0   \n",
       "22695        2         2  24000.0  1000                1               0   \n",
       "22696        3         3  19000.0  1200                1               0   \n",
       "\n",
       "       property_type_Apartment  property_type_Independent Floor  \\\n",
       "0                            0                                1   \n",
       "1                            0                                0   \n",
       "2                            0                                0   \n",
       "3                            1                                0   \n",
       "4                            1                                0   \n",
       "...                        ...                              ...   \n",
       "22692                        0                                1   \n",
       "22693                        0                                0   \n",
       "22694                        0                                0   \n",
       "22695                        1                                0   \n",
       "22696                        0                                1   \n",
       "\n",
       "       property_type_Independent House  property_type_Penthouse  \\\n",
       "0                                    0                        0   \n",
       "1                                    1                        0   \n",
       "2                                    1                        0   \n",
       "3                                    0                        0   \n",
       "4                                    0                        0   \n",
       "...                                ...                      ...   \n",
       "22692                                0                        0   \n",
       "22693                                1                        0   \n",
       "22694                                1                        0   \n",
       "22695                                0                        0   \n",
       "22696                                0                        0   \n",
       "\n",
       "       property_type_Studio Apartment  property_type_Villa  \\\n",
       "0                                   0                    0   \n",
       "1                                   0                    0   \n",
       "2                                   0                    0   \n",
       "3                                   0                    0   \n",
       "4                                   0                    0   \n",
       "...                               ...                  ...   \n",
       "22692                               0                    0   \n",
       "22693                               0                    0   \n",
       "22694                               0                    0   \n",
       "22695                               0                    0   \n",
       "22696                               0                    0   \n",
       "\n",
       "       furnish_type_Furnished  furnish_type_Semi-Furnished  \\\n",
       "0                           0                            1   \n",
       "1                           0                            1   \n",
       "2                           0                            1   \n",
       "3                           0                            1   \n",
       "4                           1                            0   \n",
       "...                       ...                          ...   \n",
       "22692                       0                            1   \n",
       "22693                       0                            1   \n",
       "22694                       0                            1   \n",
       "22695                       0                            1   \n",
       "22696                       0                            1   \n",
       "\n",
       "       furnish_type_Unfurnished  \n",
       "0                             0  \n",
       "1                             0  \n",
       "2                             0  \n",
       "3                             0  \n",
       "4                             0  \n",
       "...                         ...  \n",
       "22692                         0  \n",
       "22693                         0  \n",
       "22694                         0  \n",
       "22695                         0  \n",
       "22696                         0  \n",
       "\n",
       "[22697 rows x 15 columns]"
      ]
     },
     "execution_count": 41,
     "metadata": {},
     "output_type": "execute_result"
    }
   ],
   "source": [
    "df"
   ]
  },
  {
   "cell_type": "markdown",
   "id": "7e3b0159",
   "metadata": {},
   "source": [
    "Separating independent and dependent variable from dataframe"
   ]
  },
  {
   "cell_type": "code",
   "execution_count": 42,
   "id": "367d0e1b",
   "metadata": {},
   "outputs": [],
   "source": [
    "x = df.drop('price', axis=1)\n",
    "y = df['price']"
   ]
  },
  {
   "cell_type": "markdown",
   "id": "9327491b",
   "metadata": {},
   "source": [
    "Importing sklearn model to split datasets into training and testing points"
   ]
  },
  {
   "cell_type": "code",
   "execution_count": 43,
   "id": "4f05336a",
   "metadata": {},
   "outputs": [],
   "source": [
    "from sklearn.model_selection import train_test_split\n",
    "X_train, X_test, y_train, y_test = train_test_split(x,y,test_size=0.2,random_state=10)"
   ]
  },
  {
   "cell_type": "markdown",
   "id": "b1ee3921",
   "metadata": {},
   "source": [
    "Importing linear regression model and testing its accuracy by fitted the dataset"
   ]
  },
  {
   "cell_type": "code",
   "execution_count": 44,
   "id": "4bbf1938",
   "metadata": {},
   "outputs": [
    {
     "data": {
      "text/plain": [
       "0.6261528381647584"
      ]
     },
     "execution_count": 44,
     "metadata": {},
     "output_type": "execute_result"
    }
   ],
   "source": [
    "from sklearn.linear_model import LinearRegression\n",
    "lr = LinearRegression()\n",
    "lr.fit(X_train,y_train)\n",
    "lr.score(X_test,y_test)"
   ]
  },
  {
   "cell_type": "markdown",
   "id": "82909104",
   "metadata": {},
   "source": [
    "shuffling my datasets into 10 splits and testing with 20 percent of datasets and checking accuracy"
   ]
  },
  {
   "cell_type": "code",
   "execution_count": 45,
   "id": "559ea4ee",
   "metadata": {},
   "outputs": [
    {
     "data": {
      "text/plain": [
       "array([0.66477548, 0.65493519, 0.64575228, 0.65623674, 0.64553232,\n",
       "       0.63915711, 0.648529  , 0.62897554, 0.6481302 , 0.64663484])"
      ]
     },
     "execution_count": 45,
     "metadata": {},
     "output_type": "execute_result"
    }
   ],
   "source": [
    "from sklearn.model_selection import ShuffleSplit\n",
    "from sklearn.model_selection import cross_val_score\n",
    "\n",
    "cv = ShuffleSplit(n_splits=10, test_size=0.2, random_state=0)\n",
    "\n",
    "cross_val_score(LinearRegression(), x, y, cv=cv)"
   ]
  },
  {
   "cell_type": "markdown",
   "id": "616d9356",
   "metadata": {},
   "source": [
    "Finding for suitable best model for our dataset"
   ]
  },
  {
   "cell_type": "code",
   "execution_count": 46,
   "id": "c7132434",
   "metadata": {},
   "outputs": [
    {
     "data": {
      "text/html": [
       "<div>\n",
       "<style scoped>\n",
       "    .dataframe tbody tr th:only-of-type {\n",
       "        vertical-align: middle;\n",
       "    }\n",
       "\n",
       "    .dataframe tbody tr th {\n",
       "        vertical-align: top;\n",
       "    }\n",
       "\n",
       "    .dataframe thead th {\n",
       "        text-align: right;\n",
       "    }\n",
       "</style>\n",
       "<table border=\"1\" class=\"dataframe\">\n",
       "  <thead>\n",
       "    <tr style=\"text-align: right;\">\n",
       "      <th></th>\n",
       "      <th>model</th>\n",
       "      <th>best_score</th>\n",
       "      <th>best_params</th>\n",
       "    </tr>\n",
       "  </thead>\n",
       "  <tbody>\n",
       "    <tr>\n",
       "      <th>0</th>\n",
       "      <td>linear_regression</td>\n",
       "      <td>0.653491</td>\n",
       "      <td>{'normalize': True}</td>\n",
       "    </tr>\n",
       "    <tr>\n",
       "      <th>1</th>\n",
       "      <td>lasso</td>\n",
       "      <td>0.653440</td>\n",
       "      <td>{'alpha': 1, 'selection': 'cyclic'}</td>\n",
       "    </tr>\n",
       "    <tr>\n",
       "      <th>2</th>\n",
       "      <td>decision_tree</td>\n",
       "      <td>0.727870</td>\n",
       "      <td>{'criterion': 'friedman_mse', 'splitter': 'ran...</td>\n",
       "    </tr>\n",
       "  </tbody>\n",
       "</table>\n",
       "</div>"
      ],
      "text/plain": [
       "               model  best_score  \\\n",
       "0  linear_regression    0.653491   \n",
       "1              lasso    0.653440   \n",
       "2      decision_tree    0.727870   \n",
       "\n",
       "                                         best_params  \n",
       "0                                {'normalize': True}  \n",
       "1                {'alpha': 1, 'selection': 'cyclic'}  \n",
       "2  {'criterion': 'friedman_mse', 'splitter': 'ran...  "
      ]
     },
     "execution_count": 46,
     "metadata": {},
     "output_type": "execute_result"
    }
   ],
   "source": [
    "from sklearn.model_selection import GridSearchCV\n",
    "from sklearn.linear_model import Lasso\n",
    "from sklearn.tree import DecisionTreeRegressor\n",
    "\n",
    "def find_best_model_using_gridsearchcv(X,y):\n",
    "    algos = {\n",
    "        'linear_regression' : {\n",
    "            'model': LinearRegression(),\n",
    "            'params': {\n",
    "                'normalize': [True, False]\n",
    "            }\n",
    "        },\n",
    "        'lasso': {\n",
    "            'model': Lasso(),\n",
    "            'params': {\n",
    "                'alpha': [1,2],\n",
    "                'selection': ['random', 'cyclic']\n",
    "            }\n",
    "        },\n",
    "        'decision_tree': {\n",
    "            'model': DecisionTreeRegressor(),\n",
    "            'params': {\n",
    "                'criterion' : ['mse','friedman_mse'],\n",
    "                'splitter': ['best','random']\n",
    "            }\n",
    "        }\n",
    "    }\n",
    "    scores = []\n",
    "    cv = ShuffleSplit(n_splits=5, test_size=0.2, random_state=0)\n",
    "    for algo_name, config in algos.items():\n",
    "        gs =  GridSearchCV(config['model'], config['params'], cv=cv, return_train_score=False)\n",
    "        gs.fit(X,y)\n",
    "        scores.append({\n",
    "            'model': algo_name,\n",
    "            'best_score': gs.best_score_,\n",
    "            'best_params': gs.best_params_\n",
    "        })\n",
    "\n",
    "    return pd.DataFrame(scores,columns=['model','best_score','best_params'])\n",
    "\n",
    "find_best_model_using_gridsearchcv(x,y)"
   ]
  },
  {
   "cell_type": "markdown",
   "id": "d4b664a7",
   "metadata": {},
   "source": [
    "Importing decission tree regression, fitting the dataset and checking for its accuracy"
   ]
  },
  {
   "cell_type": "code",
   "execution_count": 47,
   "id": "d2a25509",
   "metadata": {},
   "outputs": [],
   "source": [
    "from sklearn.tree import DecisionTreeRegressor"
   ]
  },
  {
   "cell_type": "code",
   "execution_count": 48,
   "id": "4cd94f39",
   "metadata": {},
   "outputs": [],
   "source": [
    "dt = DecisionTreeRegressor(random_state=0)"
   ]
  },
  {
   "cell_type": "code",
   "execution_count": 49,
   "id": "b4852032",
   "metadata": {},
   "outputs": [
    {
     "data": {
      "text/plain": [
       "DecisionTreeRegressor(random_state=0)"
      ]
     },
     "execution_count": 49,
     "metadata": {},
     "output_type": "execute_result"
    }
   ],
   "source": [
    "dt.fit(X_train, y_train)"
   ]
  },
  {
   "cell_type": "code",
   "execution_count": 50,
   "id": "dd67dafd",
   "metadata": {},
   "outputs": [],
   "source": [
    "y_pred = dt.predict(X_test)"
   ]
  },
  {
   "cell_type": "code",
   "execution_count": 51,
   "id": "aed39201",
   "metadata": {},
   "outputs": [
    {
     "data": {
      "text/plain": [
       "array([24357.14285714, 22833.33333333, 21165.82352941, ...,\n",
       "       11735.47599165, 22000.        , 23820.        ])"
      ]
     },
     "execution_count": 51,
     "metadata": {},
     "output_type": "execute_result"
    }
   ],
   "source": [
    "y_pred"
   ]
  },
  {
   "cell_type": "code",
   "execution_count": 52,
   "id": "6ce3b50e",
   "metadata": {},
   "outputs": [
    {
     "data": {
      "text/plain": [
       "(4540,)"
      ]
     },
     "execution_count": 52,
     "metadata": {},
     "output_type": "execute_result"
    }
   ],
   "source": [
    "y_pred.shape"
   ]
  },
  {
   "cell_type": "code",
   "execution_count": 53,
   "id": "8f6e8e09",
   "metadata": {},
   "outputs": [],
   "source": [
    "from sklearn.metrics import mean_squared_error"
   ]
  },
  {
   "cell_type": "code",
   "execution_count": 54,
   "id": "dec9cf20",
   "metadata": {},
   "outputs": [
    {
     "data": {
      "text/plain": [
       "6654.723497506857"
      ]
     },
     "execution_count": 54,
     "metadata": {},
     "output_type": "execute_result"
    }
   ],
   "source": [
    "RMSE_dt = mean_squared_error(y_test, y_pred, squared = False)\n",
    "RMSE_dt"
   ]
  },
  {
   "cell_type": "code",
   "execution_count": 55,
   "id": "a84adf3b",
   "metadata": {},
   "outputs": [
    {
     "data": {
      "text/plain": [
       "array([0.71695762, 0.72226477, 0.72846749, 0.69142886, 0.70544631,\n",
       "       0.69447864, 0.7070609 , 0.6942133 , 0.6841565 , 0.71246434])"
      ]
     },
     "execution_count": 55,
     "metadata": {},
     "output_type": "execute_result"
    }
   ],
   "source": [
    "cross_val_score(dt, X_train, y_train, cv=10)"
   ]
  },
  {
   "cell_type": "markdown",
   "id": "9f0dc55d",
   "metadata": {},
   "source": [
    "Fitting the entire dataset into decision tree regressor and checking for acuuracy"
   ]
  },
  {
   "cell_type": "code",
   "execution_count": 56,
   "id": "177a9849",
   "metadata": {},
   "outputs": [
    {
     "data": {
      "text/plain": [
       "DecisionTreeRegressor(random_state=0)"
      ]
     },
     "execution_count": 56,
     "metadata": {},
     "output_type": "execute_result"
    }
   ],
   "source": [
    "dt.fit(df[['bedroom','area','bathroom','layout_type_BHK','layout_type_RK','property_type_Apartment','property_type_Independent Floor','property_type_Independent House','property_type_Penthouse','property_type_Studio Apartment','property_type_Villa','furnish_type_Furnished','furnish_type_Semi-Furnished','furnish_type_Unfurnished']],df.price)"
   ]
  },
  {
   "cell_type": "code",
   "execution_count": 57,
   "id": "03cab10a",
   "metadata": {},
   "outputs": [
    {
     "data": {
      "text/plain": [
       "0.8221726071468105"
      ]
     },
     "execution_count": 57,
     "metadata": {},
     "output_type": "execute_result"
    }
   ],
   "source": [
    "dt.score(df[['bedroom','area','bathroom','layout_type_BHK','layout_type_RK','property_type_Apartment','property_type_Independent Floor','property_type_Independent House','property_type_Penthouse','property_type_Studio Apartment','property_type_Villa','furnish_type_Furnished','furnish_type_Semi-Furnished','furnish_type_Unfurnished']],df.price)"
   ]
  },
  {
   "cell_type": "markdown",
   "id": "5be82309",
   "metadata": {},
   "source": [
    "Predicting the house rent price using above trained model. here I am considering independent house with 500 square feet area having 2 bedrooms, 1 bathroom and BHK type"
   ]
  },
  {
   "cell_type": "code",
   "execution_count": 58,
   "id": "1b3200a0",
   "metadata": {},
   "outputs": [
    {
     "data": {
      "text/plain": [
       "array([16189.23809524])"
      ]
     },
     "execution_count": 58,
     "metadata": {},
     "output_type": "execute_result"
    }
   ],
   "source": [
    "dt.predict([[2,500,1,1,0,0,0,1,0,0,0,1,0,0]])"
   ]
  },
  {
   "cell_type": "markdown",
   "id": "34adaaaa",
   "metadata": {},
   "source": [
    "Predicting the price by using user input prefrences"
   ]
  },
  {
   "cell_type": "code",
   "execution_count": 59,
   "id": "620fd943",
   "metadata": {},
   "outputs": [
    {
     "name": "stdout",
     "output_type": "stream",
     "text": [
      "Enter a number of required bedrooms\n",
      "2\n",
      "Enter a required flat size in square feet\n",
      "500\n",
      "Enter a number of required bathrooms\n",
      "1\n",
      "If you wish to have layout type BHK press 1 if not press 0 \n",
      "1\n",
      "If you wish to have layout type RK press 1 if not press 0 \n",
      "0\n",
      "If you wish to have property_type_Apartment press 1 if not press 0 \n",
      "0\n",
      "If you wish to have property_type_Independent Floor press 1 if not press 0 \n",
      "0\n",
      "If you wish to have property_type_Independent House press 1 if not press 0 \n",
      "1\n",
      "If you wish to have property_type_Penthouse press 1 if not press 0 \n",
      "0\n",
      "If you wish to have property_type_Studio Apartment press 1 if not press 0 \n",
      "0\n",
      "If you wish to have property_type_Villa press 1 if not press 0 \n",
      "0\n",
      "If you wish to have furnish_type_Furnished press 1 if not press 0 \n",
      "1\n",
      "If you wish to have furnish_type_Semi-Furnished press 1 if not press 0 \n",
      "0\n",
      "If you wish to have furnish_type_Unfurnished press 1 if not press 0 \n",
      "0\n",
      "The price amount according to your prefrence will be\n",
      " [16189.23809524] Rupees\n"
     ]
    }
   ],
   "source": [
    "bedrooms = int(input('Enter a number of required bedrooms\\n'))\n",
    "area = float(input('Enter a required flat size in square feet\\n'))\n",
    "bathroom = int(input('Enter a number of required bathrooms\\n'))\n",
    "lt1 = int(input('If you wish to have layout type BHK press 1 if not press 0 \\n'))\n",
    "lt2 = int(input('If you wish to have layout type RK press 1 if not press 0 \\n'))\n",
    "pt1 = int(input('If you wish to have property_type_Apartment press 1 if not press 0 \\n'))\n",
    "pt2 = int(input('If you wish to have property_type_Independent Floor press 1 if not press 0 \\n'))\n",
    "pt3 = int(input('If you wish to have property_type_Independent House press 1 if not press 0 \\n'))\n",
    "pt4 = int(input('If you wish to have property_type_Penthouse press 1 if not press 0 \\n'))\n",
    "pt5 = int(input('If you wish to have property_type_Studio Apartment press 1 if not press 0 \\n'))\n",
    "pt6 = int(input('If you wish to have property_type_Villa press 1 if not press 0 \\n'))\n",
    "ft1 = int(input('If you wish to have furnish_type_Furnished press 1 if not press 0 \\n'))\n",
    "ft2 = int(input('If you wish to have furnish_type_Semi-Furnished press 1 if not press 0 \\n'))\n",
    "ft3 = int(input('If you wish to have furnish_type_Unfurnished press 1 if not press 0 \\n'))\n",
    "\n",
    "print(\n",
    "    \"The price amount according to your prefrence will be\\n\",\n",
    "     dt.predict([[bedrooms,area,bathroom,lt1,lt2,pt1,pt2,pt3,pt4,pt5,pt6,ft1,ft2,ft3]]),\"Rupees\")"
   ]
  },
  {
   "cell_type": "markdown",
   "id": "e7862c55",
   "metadata": {},
   "source": [
    "# In order to cross check the result obtained above I'm attaching the screenshot of excel sheet of dataframe.\n",
    "# I appreciate your reviews and suggestions in comments."
   ]
  },
  {
   "cell_type": "markdown",
   "id": "36770149",
   "metadata": {},
   "source": [
    "# Thank you, hope you liked it."
   ]
  },
  {
   "cell_type": "code",
   "execution_count": null,
   "id": "4ed34cd6",
   "metadata": {},
   "outputs": [],
   "source": []
  }
 ],
 "metadata": {
  "kernelspec": {
   "display_name": "Python 3 (ipykernel)",
   "language": "python",
   "name": "python3"
  },
  "language_info": {
   "codemirror_mode": {
    "name": "ipython",
    "version": 3
   },
   "file_extension": ".py",
   "mimetype": "text/x-python",
   "name": "python",
   "nbconvert_exporter": "python",
   "pygments_lexer": "ipython3",
   "version": "3.9.13"
  }
 },
 "nbformat": 4,
 "nbformat_minor": 5
}
